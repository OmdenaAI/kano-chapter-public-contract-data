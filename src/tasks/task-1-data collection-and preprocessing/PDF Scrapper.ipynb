{
 "cells": [
  {
   "cell_type": "code",
   "execution_count": 12,
   "metadata": {},
   "outputs": [],
   "source": [
    "#!pip install tabula-py"
   ]
  },
  {
   "cell_type": "code",
   "execution_count": 1,
   "metadata": {},
   "outputs": [
    {
     "name": "stderr",
     "output_type": "stream",
     "text": [
      "C:\\Users\\MICHEAL\\anaconda3\\lib\\site-packages\\pandas\\core\\computation\\expressions.py:20: UserWarning: Pandas requires version '2.7.3' or newer of 'numexpr' (version '2.7.1' currently installed).\n",
      "  from pandas.core.computation.check import NUMEXPR_INSTALLED\n"
     ]
    }
   ],
   "source": [
    "import tabula\n",
    "#from tabula import wrapper\n",
    "from tabula.io import read_pdf\n",
    "import pandas as pd\n",
    "import re"
   ]
  },
  {
   "cell_type": "code",
   "execution_count": 2,
   "metadata": {},
   "outputs": [],
   "source": [
    "file = \"Kaduna FMA.pdf\" "
   ]
  },
  {
   "cell_type": "code",
   "execution_count": 11,
   "metadata": {},
   "outputs": [],
   "source": [
    "tables = read_pdf(file, pages = \"all\")\n",
    "#tables = wrapper.read_pdf(file_1, pages = \"all\")"
   ]
  },
  {
   "cell_type": "code",
   "execution_count": 12,
   "metadata": {},
   "outputs": [
    {
     "name": "stdout",
     "output_type": "stream",
     "text": [
      "127\n"
     ]
    }
   ],
   "source": [
    "print(len(tables))"
   ]
  },
  {
   "cell_type": "code",
   "execution_count": 13,
   "metadata": {},
   "outputs": [
    {
     "data": {
      "text/plain": [
       "2"
      ]
     },
     "execution_count": 13,
     "metadata": {},
     "output_type": "execute_result"
    }
   ],
   "source": [
    "len(tables[0])"
   ]
  },
  {
   "cell_type": "code",
   "execution_count": 14,
   "metadata": {},
   "outputs": [
    {
     "data": {
      "text/plain": [
       "'S/NO'"
      ]
     },
     "execution_count": 14,
     "metadata": {},
     "output_type": "execute_result"
    }
   ],
   "source": [
    "tables[0].columns[0]"
   ]
  },
  {
   "cell_type": "code",
   "execution_count": 15,
   "metadata": {},
   "outputs": [
    {
     "data": {
      "text/html": [
       "<div>\n",
       "<style scoped>\n",
       "    .dataframe tbody tr th:only-of-type {\n",
       "        vertical-align: middle;\n",
       "    }\n",
       "\n",
       "    .dataframe tbody tr th {\n",
       "        vertical-align: top;\n",
       "    }\n",
       "\n",
       "    .dataframe thead th {\n",
       "        text-align: right;\n",
       "    }\n",
       "</style>\n",
       "<table border=\"1\" class=\"dataframe\">\n",
       "  <thead>\n",
       "    <tr style=\"text-align: right;\">\n",
       "      <th></th>\n",
       "      <th>S/NO</th>\n",
       "      <th>PROJECT</th>\n",
       "      <th>PROJECT COST.</th>\n",
       "      <th>CONTRACTOR</th>\n",
       "      <th>REMARKS</th>\n",
       "    </tr>\n",
       "  </thead>\n",
       "  <tbody>\n",
       "    <tr>\n",
       "      <th>0</th>\n",
       "      <td>1</td>\n",
       "      <td>DEVELOPMENT OF SOFTWARE\\rAND ARCHIVING OF EXIS...</td>\n",
       "      <td>N15,225,000.00</td>\n",
       "      <td>M/S ROUNDSTONE\\rCONSULTING NIG. LTD.</td>\n",
       "      <td>NaN</td>\n",
       "    </tr>\n",
       "    <tr>\n",
       "      <th>1</th>\n",
       "      <td>2</td>\n",
       "      <td>DEVELOPMENTOF MINI DATA\\rCENTRE AND ELECTRONIC...</td>\n",
       "      <td>N9,011,522.68</td>\n",
       "      <td>M/S ROUNDSTONE\\rCONSULTING NIG. LTD.</td>\n",
       "      <td>NaN</td>\n",
       "    </tr>\n",
       "    <tr>\n",
       "      <th>2</th>\n",
       "      <td>3</td>\n",
       "      <td>PROCUREMENT OF\\rTECHNOLOGY DEPENDENCIES.</td>\n",
       "      <td>N15,562,104.60</td>\n",
       "      <td>M/S ROUNDSTONE\\rCONSULTING NIG. LTD.</td>\n",
       "      <td>NaN</td>\n",
       "    </tr>\n",
       "  </tbody>\n",
       "</table>\n",
       "</div>"
      ],
      "text/plain": [
       "   S/NO                                            PROJECT   PROJECT COST.  \\\n",
       "0     1  DEVELOPMENT OF SOFTWARE\\rAND ARCHIVING OF EXIS...  N15,225,000.00   \n",
       "1     2  DEVELOPMENTOF MINI DATA\\rCENTRE AND ELECTRONIC...   N9,011,522.68   \n",
       "2     3           PROCUREMENT OF\\rTECHNOLOGY DEPENDENCIES.  N15,562,104.60   \n",
       "\n",
       "                             CONTRACTOR  REMARKS  \n",
       "0  M/S ROUNDSTONE\\rCONSULTING NIG. LTD.      NaN  \n",
       "1  M/S ROUNDSTONE\\rCONSULTING NIG. LTD.      NaN  \n",
       "2  M/S ROUNDSTONE\\rCONSULTING NIG. LTD.      NaN  "
      ]
     },
     "execution_count": 15,
     "metadata": {},
     "output_type": "execute_result"
    }
   ],
   "source": [
    "tables[22]  #21"
   ]
  },
  {
   "cell_type": "code",
   "execution_count": 16,
   "metadata": {},
   "outputs": [
    {
     "name": "stdout",
     "output_type": "stream",
     "text": [
      "63\n"
     ]
    },
    {
     "name": "stderr",
     "output_type": "stream",
     "text": [
      "<ipython-input-16-159676b3ff7b>:11: FutureWarning: The frame.append method is deprecated and will be removed from pandas in a future version. Use pandas.concat instead.\n",
      "  table.append(tables[i])\n",
      "<ipython-input-16-159676b3ff7b>:11: FutureWarning: The frame.append method is deprecated and will be removed from pandas in a future version. Use pandas.concat instead.\n",
      "  table.append(tables[i])\n",
      "<ipython-input-16-159676b3ff7b>:11: FutureWarning: The frame.append method is deprecated and will be removed from pandas in a future version. Use pandas.concat instead.\n",
      "  table.append(tables[i])\n",
      "<ipython-input-16-159676b3ff7b>:11: FutureWarning: The frame.append method is deprecated and will be removed from pandas in a future version. Use pandas.concat instead.\n",
      "  table.append(tables[i])\n",
      "<ipython-input-16-159676b3ff7b>:11: FutureWarning: The frame.append method is deprecated and will be removed from pandas in a future version. Use pandas.concat instead.\n",
      "  table.append(tables[i])\n",
      "<ipython-input-16-159676b3ff7b>:11: FutureWarning: The frame.append method is deprecated and will be removed from pandas in a future version. Use pandas.concat instead.\n",
      "  table.append(tables[i])\n",
      "<ipython-input-16-159676b3ff7b>:11: FutureWarning: The frame.append method is deprecated and will be removed from pandas in a future version. Use pandas.concat instead.\n",
      "  table.append(tables[i])\n",
      "<ipython-input-16-159676b3ff7b>:11: FutureWarning: The frame.append method is deprecated and will be removed from pandas in a future version. Use pandas.concat instead.\n",
      "  table.append(tables[i])\n",
      "<ipython-input-16-159676b3ff7b>:11: FutureWarning: The frame.append method is deprecated and will be removed from pandas in a future version. Use pandas.concat instead.\n",
      "  table.append(tables[i])\n"
     ]
    }
   ],
   "source": [
    "j = 0\n",
    "for i in range(len(tables)):\n",
    "    if len(tables[i]) != 0:\n",
    "        tables[i] = tables[i].rename(columns={tables[i].columns[2]: \"PROJECT COST\"})\n",
    "        #tables[i].columns.values[2] = \"PROJECT COST\"\n",
    "        j += 1\n",
    "        if i == 0:\n",
    "            table = tables[i]\n",
    "        else:\n",
    "            if tables[i].columns[0] != \"S/NO\":\n",
    "                table.append(tables[i])\n",
    "            else:\n",
    "                table = pd.concat([table, tables[i]], ignore_index=True)\n",
    "print(j)"
   ]
  },
  {
   "cell_type": "code",
   "execution_count": 17,
   "metadata": {},
   "outputs": [
    {
     "data": {
      "text/html": [
       "<div>\n",
       "<style scoped>\n",
       "    .dataframe tbody tr th:only-of-type {\n",
       "        vertical-align: middle;\n",
       "    }\n",
       "\n",
       "    .dataframe tbody tr th {\n",
       "        vertical-align: top;\n",
       "    }\n",
       "\n",
       "    .dataframe thead th {\n",
       "        text-align: right;\n",
       "    }\n",
       "</style>\n",
       "<table border=\"1\" class=\"dataframe\">\n",
       "  <thead>\n",
       "    <tr style=\"text-align: right;\">\n",
       "      <th></th>\n",
       "      <th>S/NO</th>\n",
       "      <th>PROJECT</th>\n",
       "      <th>PROJECT COST</th>\n",
       "      <th>CONTRACTOR</th>\n",
       "      <th>REMARKS</th>\n",
       "    </tr>\n",
       "  </thead>\n",
       "  <tbody>\n",
       "    <tr>\n",
       "      <th>0</th>\n",
       "      <td>1.0</td>\n",
       "      <td>RENOVATION OF GOVERNMENT\\rLODGE B/17.</td>\n",
       "      <td>N11,056,353.00</td>\n",
       "      <td>M/S AXF PROJECTS\\rNIG. LTD.</td>\n",
       "      <td>NaN</td>\n",
       "    </tr>\n",
       "    <tr>\n",
       "      <th>1</th>\n",
       "      <td>2.0</td>\n",
       "      <td>RENOVATION OF GOVERNMENT\\rLODGE B/17.</td>\n",
       "      <td>N8,173,473.00</td>\n",
       "      <td>M/S AXF PROJECTS\\rNIG. LTD.</td>\n",
       "      <td>NaN</td>\n",
       "    </tr>\n",
       "    <tr>\n",
       "      <th>2</th>\n",
       "      <td>1.0</td>\n",
       "      <td>PROCUREMENT OF OFFICE AND\\rCLASS ROOM FURNITURE.</td>\n",
       "      <td>N237,954,888.00</td>\n",
       "      <td>M/S MAKBLO\\rINTEGRATED GLOBAL\\rSERVICE LTD.</td>\n",
       "      <td>NaN</td>\n",
       "    </tr>\n",
       "    <tr>\n",
       "      <th>3</th>\n",
       "      <td>2.0</td>\n",
       "      <td>PROCUREMENT OF\\rLABORATORY FURNITURE.</td>\n",
       "      <td>N164,433,600.00</td>\n",
       "      <td>M/S KAURA SUPPLIES\\rAND MARKETING CO\\rLTD.</td>\n",
       "      <td>NaN</td>\n",
       "    </tr>\n",
       "    <tr>\n",
       "      <th>4</th>\n",
       "      <td>3.0</td>\n",
       "      <td>PROCUREMENT OF LIBRARY,\\rCLINIC/COMPUTER ROOM\\...</td>\n",
       "      <td>N148,236,750.00</td>\n",
       "      <td>M/S KHALID\\rINTEGRATED LINKS.</td>\n",
       "      <td>NaN</td>\n",
       "    </tr>\n",
       "    <tr>\n",
       "      <th>...</th>\n",
       "      <td>...</td>\n",
       "      <td>...</td>\n",
       "      <td>...</td>\n",
       "      <td>...</td>\n",
       "      <td>...</td>\n",
       "    </tr>\n",
       "    <tr>\n",
       "      <th>169</th>\n",
       "      <td>1.0</td>\n",
       "      <td>RENOVATION/REPAIRS OF\\rYELWA SCHOOL MAIGANA IN...</td>\n",
       "      <td>N10,828,307.70</td>\n",
       "      <td>M/S EL-TEEJ\\rVENTURES</td>\n",
       "      <td>NaN</td>\n",
       "    </tr>\n",
       "    <tr>\n",
       "      <th>170</th>\n",
       "      <td>2.0</td>\n",
       "      <td>MARKET EXTENSION TUDUN\\rSAIBU IN SOBA LGA</td>\n",
       "      <td>N5,247,165.00</td>\n",
       "      <td>M/S CHANJI GLOBAL\\rRESOURCES LTD</td>\n",
       "      <td>NaN</td>\n",
       "    </tr>\n",
       "    <tr>\n",
       "      <th>171</th>\n",
       "      <td>3.0</td>\n",
       "      <td>CONSTRUCTION OF 7MX6M\\rBRIDGE &amp; 1 NO SINGLE CU...</td>\n",
       "      <td>N6,064,474.50</td>\n",
       "      <td>M/S EL- TEEJ\\rVENTURES LTD</td>\n",
       "      <td>NaN</td>\n",
       "    </tr>\n",
       "    <tr>\n",
       "      <th>172</th>\n",
       "      <td>4.0</td>\n",
       "      <td>REHABILITATION OF DOUBLE\\rCELL CULVERTS MARABA...</td>\n",
       "      <td>N7,979,561.43</td>\n",
       "      <td>M/S ALAF LS LTD</td>\n",
       "      <td>NaN</td>\n",
       "    </tr>\n",
       "    <tr>\n",
       "      <th>173</th>\n",
       "      <td>5.0</td>\n",
       "      <td>SUPPLY OF OFFICE FURNITURE\\rFOR SECRETARY’S OF...</td>\n",
       "      <td>N726,600.00</td>\n",
       "      <td>M/S SONORS\\rINVESTMENT NIG LTD</td>\n",
       "      <td>NaN</td>\n",
       "    </tr>\n",
       "  </tbody>\n",
       "</table>\n",
       "<p>174 rows × 5 columns</p>\n",
       "</div>"
      ],
      "text/plain": [
       "     S/NO                                            PROJECT     PROJECT COST  \\\n",
       "0     1.0              RENOVATION OF GOVERNMENT\\rLODGE B/17.   N11,056,353.00   \n",
       "1     2.0              RENOVATION OF GOVERNMENT\\rLODGE B/17.    N8,173,473.00   \n",
       "2     1.0   PROCUREMENT OF OFFICE AND\\rCLASS ROOM FURNITURE.  N237,954,888.00   \n",
       "3     2.0              PROCUREMENT OF\\rLABORATORY FURNITURE.  N164,433,600.00   \n",
       "4     3.0  PROCUREMENT OF LIBRARY,\\rCLINIC/COMPUTER ROOM\\...  N148,236,750.00   \n",
       "..    ...                                                ...              ...   \n",
       "169   1.0  RENOVATION/REPAIRS OF\\rYELWA SCHOOL MAIGANA IN...   N10,828,307.70   \n",
       "170   2.0          MARKET EXTENSION TUDUN\\rSAIBU IN SOBA LGA    N5,247,165.00   \n",
       "171   3.0  CONSTRUCTION OF 7MX6M\\rBRIDGE & 1 NO SINGLE CU...    N6,064,474.50   \n",
       "172   4.0  REHABILITATION OF DOUBLE\\rCELL CULVERTS MARABA...    N7,979,561.43   \n",
       "173   5.0  SUPPLY OF OFFICE FURNITURE\\rFOR SECRETARY’S OF...      N726,600.00   \n",
       "\n",
       "                                      CONTRACTOR  REMARKS  \n",
       "0                    M/S AXF PROJECTS\\rNIG. LTD.      NaN  \n",
       "1                    M/S AXF PROJECTS\\rNIG. LTD.      NaN  \n",
       "2    M/S MAKBLO\\rINTEGRATED GLOBAL\\rSERVICE LTD.      NaN  \n",
       "3     M/S KAURA SUPPLIES\\rAND MARKETING CO\\rLTD.      NaN  \n",
       "4                  M/S KHALID\\rINTEGRATED LINKS.      NaN  \n",
       "..                                           ...      ...  \n",
       "169                        M/S EL-TEEJ\\rVENTURES      NaN  \n",
       "170             M/S CHANJI GLOBAL\\rRESOURCES LTD      NaN  \n",
       "171                   M/S EL- TEEJ\\rVENTURES LTD      NaN  \n",
       "172                              M/S ALAF LS LTD      NaN  \n",
       "173               M/S SONORS\\rINVESTMENT NIG LTD      NaN  \n",
       "\n",
       "[174 rows x 5 columns]"
      ]
     },
     "execution_count": 17,
     "metadata": {},
     "output_type": "execute_result"
    }
   ],
   "source": [
    "table"
   ]
  },
  {
   "cell_type": "code",
   "execution_count": 18,
   "metadata": {},
   "outputs": [
    {
     "name": "stdout",
     "output_type": "stream",
     "text": [
      "<class 'pandas.core.frame.DataFrame'>\n",
      "RangeIndex: 174 entries, 0 to 173\n",
      "Data columns (total 5 columns):\n",
      " #   Column        Non-Null Count  Dtype  \n",
      "---  ------        --------------  -----  \n",
      " 0   S/NO          174 non-null    float64\n",
      " 1   PROJECT       174 non-null    object \n",
      " 2   PROJECT COST  174 non-null    object \n",
      " 3   CONTRACTOR    174 non-null    object \n",
      " 4   REMARKS       0 non-null      float64\n",
      "dtypes: float64(2), object(3)\n",
      "memory usage: 6.9+ KB\n"
     ]
    }
   ],
   "source": [
    "table.info()"
   ]
  },
  {
   "cell_type": "code",
   "execution_count": 19,
   "metadata": {},
   "outputs": [],
   "source": [
    "table.to_csv(\"Kaduna MFA.csv\", index=False)"
   ]
  },
  {
   "cell_type": "code",
   "execution_count": null,
   "metadata": {},
   "outputs": [],
   "source": []
  }
 ],
 "metadata": {
  "kernelspec": {
   "display_name": "Python 3",
   "language": "python",
   "name": "python3"
  },
  "language_info": {
   "codemirror_mode": {
    "name": "ipython",
    "version": 3
   },
   "file_extension": ".py",
   "mimetype": "text/x-python",
   "name": "python",
   "nbconvert_exporter": "python",
   "pygments_lexer": "ipython3",
   "version": "3.8.5"
  }
 },
 "nbformat": 4,
 "nbformat_minor": 4
}
